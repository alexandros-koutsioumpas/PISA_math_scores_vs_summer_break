{
 "cells": [
  {
   "cell_type": "markdown",
   "id": "comprehensive-treasurer",
   "metadata": {},
   "source": [
    "### Συσχέτιση Math PISA scores με τη σχετική αγοραστική δύναμη των εκπαιδευτικών ανά χώρα"
   ]
  },
  {
   "cell_type": "markdown",
   "id": "driving-cigarette",
   "metadata": {},
   "source": [
    "Με motivation το post του @anamorfosis (ΣΓ)\n",
    "\n",
    "https://x.com/anamorfosis/status/1826630883077701919\n",
    "\n",
    "καθώς και διαβάζοντας πρόσφατα post για τους μισθούς των εκπαιδευτικών στην Ελλάδα,\n",
    "\n",
    "έκανα την ακόλουθη ερώτηση στο ChatGPT \"I need a table in csv format of PISA math scores for all countries and also please add a column with schoolteacher's purchasing power in each country\". Τα αποτελέσματα σώθηκαν στο αρχείο math_vs_ppp_scores.csv. Επίσης στην απάντηση του το ChatGPT ανέφερε "I need a table in csv format of PISA math scores for all countries and also please add a column with schoolteacher's purchasing power index in each country"\n"
   ]
  },
  {
   "cell_type": "code",
   "execution_count": 1,
   "id": "auburn-chemistry",
   "metadata": {},
   "outputs": [
    {
     "name": "stdout",
     "output_type": "stream",
     "text": [
      "['Country/Region', 'PISA Math Score', \"Schoolteacher's Purchasing Power (Index)\"]\n",
      "['China (Beijing/ Shanghai/ Jiangsu/ Zhejiang)', '591', '120']\n",
      "['Singapore', '569', '115']\n",
      "['Hong Kong (China)', '551', '110']\n",
      "['Macao (China)', '558', '108']\n",
      "['Taiwan', '531', '105']\n",
      "['Japan', '527', '95']\n",
      "['South Korea', '526', '100']\n",
      "['Estonia', '523', '85']\n",
      "['Netherlands', '519', '105']\n",
      "['Poland', '516', '80']\n",
      "['Switzerland', '515', '110']\n",
      "['Canada', '512', '100']\n",
      "['Finland', '507', '95']\n",
      "['Ireland', '500', '105']\n",
      "['Slovenia', '495', '80']\n",
      "['Denmark', '509', '100']\n",
      "['Belgium', '508', '100']\n",
      "['Germany', '500', '95']\n",
      "['Norway', '502', '105']\n",
      "['United Kingdom', '502', '90']\n",
      "['United States', '478', '85']\n",
      "['France', '495', '90']\n",
      "['Portugal', '492', '75']\n",
      "['Italy', '487', '85']\n",
      "['Spain', '481', '85']\n",
      "['Russia', '488', '65']\n",
      "['Australia', '491', '95']\n",
      "['New Zealand', '494', '90']\n",
      "['Sweden', '502', '90']\n",
      "['Austria', '499', '95']\n",
      "['Czech Republic', '499', '75']\n",
      "['Hungary', '481', '70']\n",
      "['Israel', '463', '85']\n",
      "['Turkey', '454', '65']\n",
      "['Chile', '417', '50']\n",
      "['Mexico', '409', '55']\n",
      "['Brazil', '384', '45']\n",
      "['Thailand', '419', '55']\n",
      "['Indonesia', '379', '35']\n",
      "['Philippines', '353', '40']\n",
      "['Albania', '437', '50']\n",
      "['Argentina', '379', '45']\n",
      "['Azerbaijan', '420', '40']\n",
      "['Belarus', '472', '50']\n",
      "['Bosnia and Herzegovina', '406', '45']\n",
      "['Brunei Darussalam', '430', '75']\n",
      "['Bulgaria', '436', '55']\n",
      "['Colombia', '391', '50']\n",
      "['Costa Rica', '400', '60']\n",
      "['Croatia', '464', '70']\n",
      "['Cyprus', '451', '80']\n",
      "['Dominican Republic', '325', '30']\n",
      "['Georgia', '398', '40']\n",
      "['Greece', '451', '65']\n",
      "['Iceland', '495', '85']\n",
      "['Jordan', '400', '35']\n",
      "['Kazakhstan', '423', '40']\n",
      "['Kosovo', '366', '30']\n",
      "['Latvia', '496', '60']\n",
      "['Lebanon', '393', '35']\n",
      "['Lithuania', '481', '60']\n",
      "['Luxembourg', '483', '120']\n",
      "['Malaysia', '440', '55']\n",
      "['Malta', '472', '75']\n",
      "['Moldova', '421', '35']\n",
      "['Montenegro', '430', '45']\n",
      "['North Macedonia', '394', '40']\n",
      "['Panama', '353', '40']\n",
      "['Peru', '400', '35']\n",
      "['Qatar', '413', '100']\n",
      "['Romania', '430', '55']\n",
      "['Saudi Arabia', '373', '90']\n",
      "['Serbia', '448', '50']\n",
      "['Slovakia', '486', '70']\n",
      "['Trinidad and Tobago', '414', '65']\n",
      "['Ukraine', '453', '45']\n",
      "['United Arab Emirates', '435', '95']\n",
      "['Uruguay', '418', '45']\n",
      "['Vietnam', '496', '35']\n"
     ]
    }
   ],
   "source": [
    "import csv\n",
    "        \n",
    "file = open(\"math_scores_vs_teacher_ppp.csv\", \"r\")\n",
    "\n",
    "data = list(csv.reader(file, delimiter=\",\"))\n",
    "file.close()\n",
    "\n",
    "for item in data:\n",
    "    print(item)"
   ]
  },
  {
   "cell_type": "markdown",
   "id": "computational-lunch",
   "metadata": {},
   "source": [
    "Πάμε να κάνουμε ένα plot των δεδομένων καθώς και να υπολογίσουμε το Spearman correlation coefficient $\\rho$ που αξιολογεί το πόσο καλά μπορεί να περιγραφεί η σχέση μεταξύ των δύο μεταβλητών χρησιμοποιώντας μια μονότονη συνάρτηση."
   ]
  },
  {
   "cell_type": "code",
   "execution_count": 2,
   "id": "golden-probability",
   "metadata": {},
   "outputs": [
    {
     "data": {
      "image/png": "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\n",
      "text/plain": [
       "<Figure size 432x288 with 1 Axes>"
      ]
     },
     "metadata": {},
     "output_type": "display_data"
    }
   ],
   "source": [
    "import matplotlib.pyplot as plt\n",
    "import numpy as np\n",
    "from scipy.stats import spearmanr\n",
    "%matplotlib inline\n",
    "plt.style.use('ggplot')\n",
    "\n",
    "ppp = []\n",
    "scores = []\n",
    "for item in data[1:]:\n",
    "    ppp.append(float(item[2]))\n",
    "    scores.append(float(item[1]))\n",
    "\n",
    "#Plot the results\n",
    "plt.figure()\n",
    "plt.yticks(np.arange(min(scores), max(scores)+1, 50.0))\n",
    "plt.scatter(ppp,scores)\n",
    "plt.xlabel('Schoolteacher Purchasing Power Parity index')\n",
    "plt.ylabel('PISA math scores');\n"
   ]
  },
  {
   "cell_type": "code",
   "execution_count": 3,
   "id": "quantitative-forth",
   "metadata": {},
   "outputs": [
    {
     "name": "stdout",
     "output_type": "stream",
     "text": [
      "Spearman correlation coefficient is 0.7968826783922323 with p-value = 1.5850827728433897e-18\n"
     ]
    }
   ],
   "source": [
    "#Calculate the Spearman correlation coefficient\n",
    "rho,p = spearmanr(ppp,scores)\n",
    "print('Spearman correlation coefficient is ' + str(rho) + ' with p-value = ' + str(p))"
   ]
  },
  {
   "cell_type": "markdown",
   "id": "appropriate-pillow",
   "metadata": {},
   "source": [
    "Βρήκαμε $\\rho$=0.8 δηλαδή θετική συσχέτιση που σημαίνει ότι το PISA math score αποτελεί αύξουσα συνάρτηση της σχετικής αγοραστικής δύναμης των εκπαιδευτικών. Η τιμή του $\\rho$ μπορεί να χαρακτηριστεί ως very strong correlation."
   ]
  },
  {
   "cell_type": "markdown",
   "id": "indirect-austria",
   "metadata": {},
   "source": [
    "Ως έλεγχο ας κάνουμε τους ίδιους υπολογισμούς αλλά αυτή τη φορά για τη γενική σχετική αφοραστική δύναμη κάθε χώρας όπως επίσης και για το GDP per capita."
   ]
  },
  {
   "cell_type": "code",
   "execution_count": 4,
   "id": "reverse-depth",
   "metadata": {},
   "outputs": [
    {
     "name": "stdout",
     "output_type": "stream",
     "text": [
      "Spearman correlation coefficient is 0.7078715597534104 with p-value = 2.993181907758656e-13\n"
     ]
    },
    {
     "data": {
      "image/png": "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\n",
      "text/plain": [
       "<Figure size 432x288 with 1 Axes>"
      ]
     },
     "metadata": {},
     "output_type": "display_data"
    }
   ],
   "source": [
    "import csv\n",
    "        \n",
    "file = open(\"math_scores_vs_general_ppp.csv\", \"r\")\n",
    "\n",
    "data = list(csv.reader(file, delimiter=\",\"))\n",
    "file.close()\n",
    "import matplotlib.pyplot as plt\n",
    "import numpy as np\n",
    "from scipy.stats import spearmanr\n",
    "%matplotlib inline\n",
    "plt.style.use('ggplot')\n",
    "\n",
    "ppp = []\n",
    "scores = []\n",
    "for item in data[1:]:\n",
    "    ppp.append(float(item[2]))\n",
    "    scores.append(float(item[1]))\n",
    "\n",
    "#Plot the results\n",
    "plt.figure()\n",
    "plt.yticks(np.arange(min(scores), max(scores)+1, 50.0))\n",
    "plt.scatter(ppp,scores)\n",
    "plt.xlabel('National Purchasing Power Parity index')\n",
    "plt.ylabel('PISA math scores');\n",
    "\n",
    "#Calculate the Spearman correlation coefficient\n",
    "rho,p = spearmanr(ppp,scores)\n",
    "print('Spearman correlation coefficient is ' + str(rho) + ' with p-value = ' + str(p))"
   ]
  },
  {
   "cell_type": "code",
   "execution_count": 6,
   "id": "noted-slovakia",
   "metadata": {},
   "outputs": [
    {
     "name": "stdout",
     "output_type": "stream",
     "text": [
      "Spearman correlation coefficient is 0.6598474734167074 with p-value = 3.7414425930533856e-11\n"
     ]
    },
    {
     "data": {
      "image/png": "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\n",
      "text/plain": [
       "<Figure size 432x288 with 1 Axes>"
      ]
     },
     "metadata": {},
     "output_type": "display_data"
    }
   ],
   "source": [
    "import csv\n",
    "        \n",
    "file = open(\"math_scores_vs_GDP_per_capita.csv\", \"r\")\n",
    "\n",
    "data = list(csv.reader(file, delimiter=\",\"))\n",
    "file.close()\n",
    "import matplotlib.pyplot as plt\n",
    "import numpy as np\n",
    "from scipy.stats import spearmanr\n",
    "%matplotlib inline\n",
    "plt.style.use('ggplot')\n",
    "\n",
    "ppp = []\n",
    "scores = []\n",
    "for item in data[1:]:\n",
    "    ppp.append(float(item[2]))\n",
    "    scores.append(float(item[1]))\n",
    "\n",
    "#Plot the results\n",
    "plt.figure()\n",
    "plt.yticks(np.arange(min(scores), max(scores)+1, 50.0))\n",
    "plt.scatter(ppp,scores)\n",
    "plt.xlabel('GDP per capita')\n",
    "plt.ylabel('PISA math scores');\n",
    "\n",
    "#Calculate the Spearman correlation coefficient\n",
    "rho,p = spearmanr(ppp,scores)\n",
    "print('Spearman correlation coefficient is ' + str(rho) + ' with p-value = ' + str(p))"
   ]
  },
  {
   "cell_type": "markdown",
   "id": "automotive-knowing",
   "metadata": {},
   "source": [
    "Προφανώς πλουσιότερες χώρες έχουν καλύτερα PISA scores αλλά η μεγαλύτερη θετική συσχέτιση που βρήκαμε αφορά ξεκάθαρα την αγοραστική δύναμη των εκπαιδευτικών."
   ]
  },
  {
   "cell_type": "code",
   "execution_count": null,
   "id": "gross-making",
   "metadata": {},
   "outputs": [],
   "source": []
  }
 ],
 "metadata": {
  "kernelspec": {
   "display_name": "Python 3",
   "language": "python",
   "name": "python3"
  },
  "language_info": {
   "codemirror_mode": {
    "name": "ipython",
    "version": 3
   },
   "file_extension": ".py",
   "mimetype": "text/x-python",
   "name": "python",
   "nbconvert_exporter": "python",
   "pygments_lexer": "ipython3",
   "version": "3.9.1"
  }
 },
 "nbformat": 4,
 "nbformat_minor": 5
}
